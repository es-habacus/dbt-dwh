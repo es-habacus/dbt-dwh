{
 "cells": [
  {
   "cell_type": "code",
   "execution_count": 2,
   "metadata": {},
   "outputs": [],
   "source": [
    "import polars as pl"
   ]
  },
  {
   "cell_type": "code",
   "execution_count": 9,
   "metadata": {},
   "outputs": [
    {
     "name": "stdout",
     "output_type": "stream",
     "text": [
      "schools.csv\n",
      "access_requirements.csv\n",
      "students.csv\n",
      "student_applications.csv\n"
     ]
    }
   ],
   "source": [
    "files = ['schools.csv', 'access_requirements.csv', 'students.csv', 'student_applications.csv']\n",
    "for file in files:\n",
    "    print(file)\n",
    "    df = (pl\n",
    "        .read_csv(source=f\"data/{file}\", ignore_errors=True)\n",
    "        .drop(['max_annual_fee', '_airbyte_meta', '_airbyte_extracted_at', '_airbyte_raw_id'])\n",
    "        .filter(pl.col('deleted_at').is_null())\n",
    "        )\n",
    "    df.write_csv(f\"habacus_dwh_dbt/seeds/{file}\")"
   ]
  },
  {
   "cell_type": "code",
   "execution_count": 58,
   "metadata": {},
   "outputs": [
    {
     "name": "stdout",
     "output_type": "stream",
     "text": [
      "students\n",
      "{'created_at': Datetime, 'deleted_at': Datetime, 'updated_at': Datetime, 'status_docs_last_set_at': Datetime, 'use_auth_with_credentials_set_at': Datetime, 'status_info_last_set_at': Datetime}\n",
      "schools\n",
      "{'verified_notes': String, 'agreement': String, 'created_at': Datetime, 'deleted_at': Datetime, 'updated_at': Datetime}\n",
      "access_requirements\n",
      "{'created_at': Datetime, 'deleted_at': Datetime, 'updated_at': Datetime, 'status_docs_last_set_at': Datetime, 'status_info_last_set_at': Datetime, 'completed_at': Datetime}\n",
      "student_applications\n",
      "{'created_at': Datetime, 'deleted_at': Datetime, 'updated_at': Datetime, 'use_auth_with_credentials_set_at': Datetime, 'born_at': Datetime}\n"
     ]
    }
   ],
   "source": [
    "files = {'students': ['created_at', 'deleted_at', 'updated_at', 'status_docs_last_set_at', 'use_auth_with_credentials_set_at', 'status_info_last_set_at'], \n",
    "         'schools': ['verified_notes', 'agreement', 'created_at', 'deleted_at', 'updated_at'], \n",
    "         'access_requirements': ['created_at', 'deleted_at', 'updated_at', 'status_docs_last_set_at', 'status_info_last_set_at', 'completed_at'], \n",
    "         'student_applications': ['created_at', 'deleted_at', 'updated_at', 'use_auth_with_credentials_set_at', 'born_at']}\n",
    "\n",
    "strings = ['verified_notes', 'agreement']\n",
    "\n",
    "for k, v in files.items():\n",
    "    print(k)\n",
    "    schema_over = {col: (pl.Utf8 if col in (strings) else pl.Datetime) for col in v }\n",
    "    print(schema_over)\n",
    "    df = (pl\n",
    "    .read_json(source=f\"data/{k}.json\", schema_overrides=schema_over)\n",
    "    .drop(\n",
    "        ['max_annual_fee', '_airbyte_meta', '_airbyte_extracted_at', '_airbyte_raw_id', \n",
    "         'verified_notes', 'agreement', 'status_docs_last_set_at', 'status_info_last_set_at', 'tipology_reason', 'typology_reason'\n",
    "         ])\n",
    "\n",
    "    )    \n",
    "    df.write_csv(f\"habacus_dwh_dbt/seeds/{k}.csv\")\n"
   ]
  },
  {
   "cell_type": "code",
   "execution_count": 39,
   "metadata": {},
   "outputs": [
    {
     "data": {
      "text/html": [
       "<div><style>\n",
       ".dataframe > thead > tr,\n",
       ".dataframe > tbody > tr {\n",
       "  text-align: right;\n",
       "  white-space: pre-wrap;\n",
       "}\n",
       "</style>\n",
       "<small>shape: (5, 52)</small><table border=\"1\" class=\"dataframe\"><thead><tr><th>citizen_city</th><th>invited_by_student_id</th><th>status_docs_reason</th><th>uuid</th><th>gender</th><th>is_test</th><th>deleted_at</th><th>domicile_zip</th><th>citizen_state</th><th>citizen_zip</th><th>no_response</th><th>domicile_city</th><th>typology_reason</th><th>use_auth_with_credentials</th><th>use_auth_with_credentials_set_at</th><th>email</th><th>marked_incorrect_documents</th><th>born_state</th><th>domicile_province</th><th>sub_reason</th><th>id</th><th>lead_source</th><th>domicile_country</th><th>citizenship</th><th>gender_tax_code</th><th>status_docs</th><th>citizen_province</th><th>lead_message</th><th>updated_at</th><th>born_country</th><th>lead_typology</th><th>marked_as_actual</th><th>born_province</th><th>is_ambassador</th><th>domicile_state</th><th>born_at</th><th>born_in</th><th>crm_id</th><th>tax_code</th><th>born_city</th><th>created_at</th><th>citizenship_ue</th><th>italian_residence</th><th>suitable</th><th>status_info</th><th>lead_interest_area</th><th>typology</th><th>born_zip</th><th>status_info_reason</th><th>status_docs_last_set_at</th><th>citizen_country</th><th>status_info_last_set_at</th></tr><tr><td>str</td><td>null</td><td>null</td><td>str</td><td>str</td><td>bool</td><td>datetime[μs]</td><td>str</td><td>str</td><td>str</td><td>null</td><td>str</td><td>str</td><td>bool</td><td>datetime[μs]</td><td>str</td><td>str</td><td>str</td><td>str</td><td>null</td><td>i64</td><td>null</td><td>str</td><td>str</td><td>null</td><td>str</td><td>str</td><td>null</td><td>datetime[μs]</td><td>str</td><td>null</td><td>str</td><td>str</td><td>bool</td><td>str</td><td>str</td><td>str</td><td>str</td><td>str</td><td>str</td><td>str</td><td>str</td><td>bool</td><td>bool</td><td>str</td><td>null</td><td>str</td><td>null</td><td>null</td><td>str</td><td>str</td><td>str</td></tr></thead><tbody><tr><td>&quot;Milano&quot;</td><td>null</td><td>null</td><td>&quot;269740ab-3760-4173-b3c9-50aa1b…</td><td>&quot;M&quot;</td><td>false</td><td>2019-02-21 06:39:33</td><td>&quot;30201&quot;</td><td>&quot;Lombardia&quot;</td><td>&quot;20156&quot;</td><td>null</td><td>&quot;Torino&quot;</td><td>null</td><td>false</td><td>null</td><td>&quot;student1@student.com&quot;</td><td>null</td><td>null</td><td>&quot;Torino&quot;</td><td>null</td><td>1</td><td>null</td><td>&quot;Italia&quot;</td><td>&quot;Italian&quot;</td><td>null</td><td>null</td><td>&quot;Milano&quot;</td><td>null</td><td>2023-02-07 08:49:38</td><td>null</td><td>null</td><td>null</td><td>null</td><td>false</td><td>&quot;Piemonte&quot;</td><td>&quot;2000-12-20&quot;</td><td>null</td><td>null</td><td>&quot;1231455523_DELETED_1&quot;</td><td>null</td><td>&quot;2019-02-18T09:01:42.000Z&quot;</td><td>&quot;UE&quot;</td><td>null</td><td>true</td><td>null</td><td>null</td><td>&quot;actual&quot;</td><td>null</td><td>null</td><td>null</td><td>&quot;Italia&quot;</td><td>null</td></tr><tr><td>&quot;Milano&quot;</td><td>null</td><td>null</td><td>&quot;35027e5a-fbd5-4aed-82d9-551dcd…</td><td>&quot;M&quot;</td><td>false</td><td>2019-02-21 06:39:34</td><td>&quot;301123&quot;</td><td>&quot;Lombardia&quot;</td><td>&quot;20156&quot;</td><td>null</td><td>&quot;Torino&quot;</td><td>null</td><td>false</td><td>null</td><td>&quot;student2@student.com&quot;</td><td>null</td><td>null</td><td>&quot;Torino&quot;</td><td>null</td><td>2</td><td>null</td><td>&quot;Italia&quot;</td><td>&quot;Italy&quot;</td><td>null</td><td>null</td><td>&quot;Milano&quot;</td><td>null</td><td>2023-02-07 08:49:38</td><td>null</td><td>null</td><td>null</td><td>null</td><td>false</td><td>&quot;Piemonte&quot;</td><td>&quot;1990-03-04&quot;</td><td>null</td><td>null</td><td>&quot;50930394534_DELETED_2&quot;</td><td>null</td><td>&quot;2019-02-18T09:01:45.000Z&quot;</td><td>&quot;UE&quot;</td><td>null</td><td>true</td><td>null</td><td>null</td><td>&quot;actual&quot;</td><td>null</td><td>null</td><td>null</td><td>&quot;Italia&quot;</td><td>null</td></tr><tr><td>&quot;Milano&quot;</td><td>null</td><td>null</td><td>&quot;33f75baa-742d-4886-b721-b1765c…</td><td>&quot;F&quot;</td><td>false</td><td>2019-02-21 06:39:29</td><td>&quot;30201&quot;</td><td>&quot;Lombardia&quot;</td><td>&quot;20156&quot;</td><td>null</td><td>&quot;Torino&quot;</td><td>null</td><td>false</td><td>null</td><td>&quot;student3@student.com&quot;</td><td>null</td><td>null</td><td>&quot;Torino&quot;</td><td>null</td><td>3</td><td>null</td><td>&quot;Italia&quot;</td><td>&quot;Italian&quot;</td><td>null</td><td>null</td><td>&quot;Milano&quot;</td><td>null</td><td>2023-02-07 08:49:38</td><td>null</td><td>null</td><td>null</td><td>null</td><td>false</td><td>&quot;Piemonte&quot;</td><td>&quot;1992-04-13&quot;</td><td>null</td><td>null</td><td>&quot;442342123_DELETED_3&quot;</td><td>null</td><td>&quot;2019-02-18T09:01:46.000Z&quot;</td><td>&quot;UE&quot;</td><td>null</td><td>true</td><td>null</td><td>null</td><td>&quot;actual&quot;</td><td>null</td><td>null</td><td>null</td><td>&quot;Italia&quot;</td><td>null</td></tr><tr><td>&quot;Treviso&quot;</td><td>null</td><td>null</td><td>&quot;548ad3f2-e6d6-4001-ad45-0beb35…</td><td>&quot;M&quot;</td><td>false</td><td>2019-02-21 06:39:11</td><td>&quot;31056&quot;</td><td>&quot;Veneto&quot;</td><td>&quot;31056&quot;</td><td>null</td><td>&quot;Roncade&quot;</td><td>null</td><td>false</td><td>null</td><td>&quot;claudio@leo.it&quot;</td><td>null</td><td>&quot;Veneto&quot;</td><td>&quot;Treviso&quot;</td><td>null</td><td>4</td><td>null</td><td>&quot;Italia&quot;</td><td>&quot;Italiana&quot;</td><td>null</td><td>null</td><td>&quot;Treviso&quot;</td><td>null</td><td>2023-02-07 08:49:38</td><td>&quot;Italia&quot;</td><td>null</td><td>null</td><td>&quot;Treviso&quot;</td><td>false</td><td>&quot;Veneto&quot;</td><td>&quot;2000-11-15&quot;</td><td>&quot;upd from tax_code;&quot;</td><td>null</td><td>&quot;LNRCLD88B17L407L_DELETED_4&quot;</td><td>&quot;Treviso&quot;</td><td>&quot;2019-02-18T09:43:19.000Z&quot;</td><td>&quot;UE&quot;</td><td>null</td><td>true</td><td>null</td><td>null</td><td>&quot;actual&quot;</td><td>null</td><td>null</td><td>null</td><td>&quot;Italia&quot;</td><td>null</td></tr><tr><td>&quot;Treviso&quot;</td><td>null</td><td>null</td><td>&quot;78cd5003-e9ea-4007-9d60-7e6bc6…</td><td>&quot;M&quot;</td><td>false</td><td>2019-02-18 13:12:19</td><td>&quot;31056&quot;</td><td>&quot;Veneto&quot;</td><td>&quot;31056&quot;</td><td>null</td><td>&quot;Roncade&quot;</td><td>null</td><td>false</td><td>null</td><td>&quot;claudio@leo.it&quot;</td><td>null</td><td>&quot;Veneto&quot;</td><td>&quot;Treviso&quot;</td><td>null</td><td>5</td><td>null</td><td>&quot;Italia&quot;</td><td>&quot;Italiana&quot;</td><td>null</td><td>null</td><td>&quot;Treviso&quot;</td><td>null</td><td>2023-02-07 08:49:38</td><td>&quot;Italia&quot;</td><td>null</td><td>null</td><td>&quot;Treviso&quot;</td><td>false</td><td>&quot;Veneto&quot;</td><td>&quot;2000-11-15&quot;</td><td>&quot;upd from tax_code;&quot;</td><td>null</td><td>&quot;LNRCLD88B17L407L_DELETED_5&quot;</td><td>&quot;Treviso&quot;</td><td>&quot;2019-02-18T09:45:01.000Z&quot;</td><td>&quot;UE&quot;</td><td>null</td><td>null</td><td>null</td><td>null</td><td>&quot;actual&quot;</td><td>null</td><td>null</td><td>null</td><td>&quot;Italia&quot;</td><td>null</td></tr></tbody></table></div>"
      ],
      "text/plain": [
       "shape: (5, 52)\n",
       "┌───────────┬───────────┬───────────┬───────────┬───┬───────────┬───────────┬───────────┬──────────┐\n",
       "│ citizen_c ┆ invited_b ┆ status_do ┆ uuid      ┆ … ┆ status_in ┆ status_do ┆ citizen_c ┆ status_i │\n",
       "│ ity       ┆ y_student ┆ cs_reason ┆ ---       ┆   ┆ fo_reason ┆ cs_last_s ┆ ountry    ┆ nfo_last │\n",
       "│ ---       ┆ _id       ┆ ---       ┆ str       ┆   ┆ ---       ┆ et_at     ┆ ---       ┆ _set_at  │\n",
       "│ str       ┆ ---       ┆ null      ┆           ┆   ┆ null      ┆ ---       ┆ str       ┆ ---      │\n",
       "│           ┆ null      ┆           ┆           ┆   ┆           ┆ str       ┆           ┆ str      │\n",
       "╞═══════════╪═══════════╪═══════════╪═══════════╪═══╪═══════════╪═══════════╪═══════════╪══════════╡\n",
       "│ Milano    ┆ null      ┆ null      ┆ 269740ab- ┆ … ┆ null      ┆ null      ┆ Italia    ┆ null     │\n",
       "│           ┆           ┆           ┆ 3760-4173 ┆   ┆           ┆           ┆           ┆          │\n",
       "│           ┆           ┆           ┆ -b3c9-50a ┆   ┆           ┆           ┆           ┆          │\n",
       "│           ┆           ┆           ┆ a1b…      ┆   ┆           ┆           ┆           ┆          │\n",
       "│ Milano    ┆ null      ┆ null      ┆ 35027e5a- ┆ … ┆ null      ┆ null      ┆ Italia    ┆ null     │\n",
       "│           ┆           ┆           ┆ fbd5-4aed ┆   ┆           ┆           ┆           ┆          │\n",
       "│           ┆           ┆           ┆ -82d9-551 ┆   ┆           ┆           ┆           ┆          │\n",
       "│           ┆           ┆           ┆ dcd…      ┆   ┆           ┆           ┆           ┆          │\n",
       "│ Milano    ┆ null      ┆ null      ┆ 33f75baa- ┆ … ┆ null      ┆ null      ┆ Italia    ┆ null     │\n",
       "│           ┆           ┆           ┆ 742d-4886 ┆   ┆           ┆           ┆           ┆          │\n",
       "│           ┆           ┆           ┆ -b721-b17 ┆   ┆           ┆           ┆           ┆          │\n",
       "│           ┆           ┆           ┆ 65c…      ┆   ┆           ┆           ┆           ┆          │\n",
       "│ Treviso   ┆ null      ┆ null      ┆ 548ad3f2- ┆ … ┆ null      ┆ null      ┆ Italia    ┆ null     │\n",
       "│           ┆           ┆           ┆ e6d6-4001 ┆   ┆           ┆           ┆           ┆          │\n",
       "│           ┆           ┆           ┆ -ad45-0be ┆   ┆           ┆           ┆           ┆          │\n",
       "│           ┆           ┆           ┆ b35…      ┆   ┆           ┆           ┆           ┆          │\n",
       "│ Treviso   ┆ null      ┆ null      ┆ 78cd5003- ┆ … ┆ null      ┆ null      ┆ Italia    ┆ null     │\n",
       "│           ┆           ┆           ┆ e9ea-4007 ┆   ┆           ┆           ┆           ┆          │\n",
       "│           ┆           ┆           ┆ -9d60-7e6 ┆   ┆           ┆           ┆           ┆          │\n",
       "│           ┆           ┆           ┆ bc6…      ┆   ┆           ┆           ┆           ┆          │\n",
       "└───────────┴───────────┴───────────┴───────────┴───┴───────────┴───────────┴───────────┴──────────┘"
      ]
     },
     "execution_count": 39,
     "metadata": {},
     "output_type": "execute_result"
    }
   ],
   "source": [
    "df.head()"
   ]
  }
 ],
 "metadata": {
  "kernelspec": {
   "display_name": "venv-dbt",
   "language": "python",
   "name": "python3"
  },
  "language_info": {
   "codemirror_mode": {
    "name": "ipython",
    "version": 3
   },
   "file_extension": ".py",
   "mimetype": "text/x-python",
   "name": "python",
   "nbconvert_exporter": "python",
   "pygments_lexer": "ipython3",
   "version": "3.9.6"
  }
 },
 "nbformat": 4,
 "nbformat_minor": 2
}
